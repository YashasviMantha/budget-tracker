{
 "cells": [
  {
   "cell_type": "code",
   "execution_count": 1,
   "metadata": {},
   "outputs": [],
   "source": [
    "import main\n",
    "import os\n",
    "import pandas as pd\n",
    "\n",
    "\n"
   ]
  },
  {
   "cell_type": "markdown",
   "metadata": {},
   "source": [
    "If you have a monthly structured statement lists"
   ]
  },
  {
   "cell_type": "code",
   "execution_count": null,
   "metadata": {},
   "outputs": [],
   "source": [
    "month_dir = os.listdir(\"./documents/\")\n",
    "output_dir = \"./output/output.xlsx\"\n",
    "\n",
    "writer = pd.ExcelWriter(output_dir, engine=\"openpyxl\")\n",
    "for month in month_dir:\n",
    "\n",
    "    print(f\"Processing {month}\")\n",
    "    df = main.main(\"./documents/\" + month + \"/\")\n",
    "    df.to_excel(writer, sheet_name=month)\n",
    "\n",
    "\n",
    "writer.close()"
   ]
  },
  {
   "cell_type": "markdown",
   "metadata": {},
   "source": [
    "If not:"
   ]
  },
  {
   "cell_type": "code",
   "execution_count": null,
   "metadata": {},
   "outputs": [],
   "source": [
    "doc_dir = './statements'\n",
    "output_dir = \"./output/output.xlsx\"\n",
    "\n",
    "writer = pd.ExcelWriter(output_dir, engine=\"openpyxl\")\n",
    "\n",
    "df = main.main(doc_dir)\n",
    "df.to_excel(writer, sheet_name='doc')\n",
    "\n",
    "\n",
    "writer.close()"
   ]
  }
 ],
 "metadata": {
  "kernelspec": {
   "display_name": "base",
   "language": "python",
   "name": "python3"
  },
  "language_info": {
   "codemirror_mode": {
    "name": "ipython",
    "version": 3
   },
   "file_extension": ".py",
   "mimetype": "text/x-python",
   "name": "python",
   "nbconvert_exporter": "python",
   "pygments_lexer": "ipython3",
   "version": "3.9.13"
  },
  "orig_nbformat": 4
 },
 "nbformat": 4,
 "nbformat_minor": 2
}
